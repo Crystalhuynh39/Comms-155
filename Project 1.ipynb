{
  "nbformat": 4,
  "nbformat_minor": 0,
  "metadata": {
    "kernelspec": {
      "display_name": "Python 3",
      "language": "python",
      "name": "python3"
    },
    "language_info": {
      "codemirror_mode": {
        "name": "ipython",
        "version": 3
      },
      "file_extension": ".py",
      "mimetype": "text/x-python",
      "name": "python",
      "nbconvert_exporter": "python",
      "pygments_lexer": "ipython3",
      "version": "3.6.4"
    },
    "colab": {
      "name": "Copy of COMM 155-W21-Project 1.ipynb",
      "provenance": [],
      "collapsed_sections": []
    }
  },
  "cells": [
    {
      "cell_type": "markdown",
      "metadata": {
        "id": "GdRT1ObggU87"
      },
      "source": [
        "# Project 1\n",
        "### This notebook implements what is taught in the python tutorial session\n",
        "COMM 155 - Artificial Intelligence and New Media, Winter 2021, Prof. J. Joo, TA - Aakash Srinivasan\n",
        "\n",
        "**Due date: Monday, February 8, 2021 11:59 pm** via CCLE. Late submission will not be accepted.\n",
        "\n",
        "You only need to code between the commented sections. Any code outside of it is for formatting purposes and should not be modified.\n",
        "\n",
        "1. Your code will be graded on correctness, not on efficiency.\n",
        "2. Feel free to use the search engine or other resources for debugging or learning correct syntax etc. But do not completely copy-paste code from outside.\n",
        "3. For any of the questions, loops or if statements, or some level of coding is required. None of the problems should be done by hand and then printed out.\n",
        "4. **You may not import any modules**. \n",
        "5. You may use additional varables if desired.\n",
        "6. You must comment your code wherever necessary.\n",
        "\n",
        "**Important:** You cannot modify this notebook directly as you only have *view access*. Before starting this project, create an **own** copy of this netebook by clicking on **File -> Save a copy in Drive**. You can add code in this copy.\n",
        "\n"
      ]
    },
    {
      "cell_type": "markdown",
      "metadata": {
        "id": "nZQM1Q1ggU9H"
      },
      "source": [
        "### Problem 1: Dividing Liquid\n",
        "Milk sold in the US comes in gallons. Jimmy is making milkshakes, which requires 450ml of milk each. If a given number of jugs are bought (the exact number of jugs bought is stored in the variable `jugs`), how many cups of milkshake can be fully poured, and how much milk will be remaining?   \n",
        "Please implement the code so that the amount of cups will be stored in the variable `cups` and the remainder in the variable `remaining`. **Assume each jug contains one gallon of milk**.\n",
        "\n",
        "(Coding Section: Basic math, type casting, $1 Gallon = 3785.41 ml$)  \n",
        "**Expected output:** `cups=311, remaining=110.17`  \n",
        "(You may get `remaining = 110.1699999999837` but round it to two decimal places using `round()` method. Cups should be an integer!)\n",
        "\n",
        "**Hint**: You may find [this resource](https://www.w3schools.com/python/ref_func_round.asp) useful for using `round()`."
      ]
    },
    {
      "cell_type": "code",
      "metadata": {
        "id": "TCdxfps1gU9K",
        "colab": {
          "base_uri": "https://localhost:8080/"
        },
        "outputId": "2f83bd2d-f565-4abf-a312-7ff3b1253b15"
      },
      "source": [
        "jugs = ord('%')\n",
        "\n",
        "##############################################################################\n",
        "# TODO: Your code below\n",
        "##############################################################################\n",
        "\n",
        "#gallon_to_ml variable holds how much ml of milk constitute a gallon\n",
        "gallon_to_ml = jugs * 3785.41\n",
        "\n",
        "#this will give the remaining amount of milk to get the desired output, I rounded the output to 2 decimal places\n",
        "remaining = round(gallon_to_ml%450, 2)\n",
        "\n",
        "#this will take the given number of jugs and see how many cups of milk can be derived\n",
        "#to get the desired output, I changed the value to an int from a double\n",
        "cups = int(gallon_to_ml/450)\n",
        "##############################################################################\n",
        "#                             END OF YOUR CODE                               #\n",
        "##############################################################################   \n",
        "print('cups =', cups)\n",
        "print('remaining =', remaining)"
      ],
      "execution_count": 1,
      "outputs": [
        {
          "output_type": "stream",
          "text": [
            "cups = 311\n",
            "remaining = 110.17\n"
          ],
          "name": "stdout"
        }
      ]
    },
    {
      "cell_type": "markdown",
      "metadata": {
        "id": "L_rOCzd7gU9Q"
      },
      "source": [
        "### Problem 2: Print the first 17 terms of the Fibonacci series using a for-loop.\n",
        "Fibonacci series is a series of numbers in which each number is the sum of the two preceding numbers.  \n",
        "(Coding Section: for-loop)  \n",
        "**Expected output:** `1 1 2 3 5 8 13 21 34 55 89 144 233 377 610 987 1597`\n",
        "\n",
        "**Note:** We expect the output in a single line.\n",
        "\n",
        "**Hint**: If you are using print statement inside the loop, set `sep` argument to ' ' to avoid newline. "
      ]
    },
    {
      "cell_type": "code",
      "metadata": {
        "id": "0E-rDUgJgU9T",
        "colab": {
          "base_uri": "https://localhost:8080/"
        },
        "outputId": "797da18a-d492-4f9d-d93d-5e76de6e9fc2"
      },
      "source": [
        "##############################################################################\n",
        "# TODO: Your code below\n",
        "##############################################################################\n",
        "\n",
        "#This number is the starting number, or base number. We set it to 0 to get the first number in the sequence.\n",
        "num1 = 0 \n",
        "\n",
        "#This number will be what is added to num1 to get the next number in the sequence. We set it to 1 to get the first number in the sequence.\n",
        "num2 = 1 \n",
        "\n",
        "\n",
        "#This is the for loop that will print out the Fibonaccie series.\n",
        "#We set the range to 17 because we want the first 17 values.\n",
        "for count in range (17): \n",
        "  print(num2, \" \", end='')\n",
        "  #The sum_of_prev_two is the sum of num1 and num2 which is needed to obtain the next value in the Fibonnacie series. By definition, the Fibonaccie series\n",
        "  #takes the sum of the previous two values of the sequence to get the next value. This variable will allow us to get the necessary values.\n",
        "  sum_of_prev_two = num1 + num2\n",
        "  #After the sum is calculated and printed, num1 resets to be the value of num2 to get the next value in the series.\n",
        "  num1 = num2\n",
        "  #num2 is reset to the sum_of_prev_two value and ready to be printed as a value in the sequence.\n",
        "  num2 = sum_of_prev_two\n",
        "\n",
        "  #We then loop back to the top of the for loop and print out the num2 value.\n",
        "  #we'll repeat this process until we get the needed 17 values.\n",
        "\n",
        "##############################################################################\n",
        "#                             END OF YOUR CODE                               #\n",
        "##############################################################################   "
      ],
      "execution_count": null,
      "outputs": [
        {
          "output_type": "stream",
          "text": [
            "1  1  2  3  5  8  13  21  34  55  89  144  233  377  610  987  1597  "
          ],
          "name": "stdout"
        }
      ]
    },
    {
      "cell_type": "markdown",
      "metadata": {
        "id": "zU7MUU6NgU9T"
      },
      "source": [
        "### Problem 3: Using nested for-loops, try to re-create the expected output\n",
        "(Coding Section: Nested For-loop)\n",
        "  \n",
        "**Expected output:** \n",
        "```\n",
        "x = 2\n",
        "  y = 0\n",
        "  y = 2\n",
        "x = 3\n",
        "  y = 0\n",
        "  y = 3\n",
        "  y = 6\n",
        "x = 4\n",
        "  y = 0\n",
        "  y = 4\n",
        "  y = 8\n",
        "  y = 12\n",
        "x = 5\n",
        "  y = 0\n",
        "  y = 5\n",
        "  y = 10\n",
        "  y = 15\n",
        "  y = 20\n",
        "x = 6\n",
        "  y = 0\n",
        "  y = 6\n",
        "  y = 12\n",
        "  y = 18\n",
        "  y = 24\n",
        "  y = 30\n",
        "```\n"
      ]
    },
    {
      "cell_type": "code",
      "metadata": {
        "id": "0cQjp39GgU9V",
        "colab": {
          "base_uri": "https://localhost:8080/"
        },
        "outputId": "4de548a4-3300-4f41-fe7d-8a07387326a1"
      },
      "source": [
        "##############################################################################\n",
        "# TODO: Your code below\n",
        "##############################################################################\n",
        "\n",
        "#Since we want the first value of x to be 2, I set it to 2 so it can be the first output of the for loop.\n",
        "x = 2\n",
        "#Z has to start at 0 since the outputs of y are equal to the product of x and 0, 1, 2, ...\n",
        "#Thus, z is the value that x is multiplied by to get y.\n",
        "z = 0\n",
        "#I set y to be the product of x and z because the pattern seen in the expected output is the product of x and 0, 1, 2, ...\n",
        "y = x * z\n",
        "\n",
        "#The outer most for loop sets the amount of times the entire loop is run. Since \"x =\" shows up in the expected output 5 times,\n",
        "#I set the range to 5 so that the last output for x can be 6\n",
        "for i in range (5):\n",
        "  print (\"x =\", x)\n",
        "  #This nested for loop sets the amount of times the loop is run for y's outputs. As we can see from the expected output,\n",
        "  #the number of times we see \"y =\" is the same as x's value, so I set the range to be x.\n",
        "  for k in range (x):\n",
        "    print (\" \", \"y =\", y)\n",
        "    #Z starts at 0 and increases by 1 each time the loop is run, stopping when the outputs of y is equal to x's value.\n",
        "    z += 1\n",
        "    #I added this bit of code in again so that everytime z changes in value, that change is reflected in y's value as well.\n",
        "    y = x * z\n",
        "  #x starts at 2 and increases by 1 each time the whole loop is run, stopping when the range is 5 or when x equals 6.\n",
        "  x += 1\n",
        "  #We want to reset z back to 0 every time we change x's value.\n",
        "  z = 0\n",
        "  #We also want to reset y so that the first output of y is x * (z = 0) rather than the product of x and the remaining value of z from the last loop.\n",
        "  y = x * z\n",
        "\n",
        "##############################################################################\n",
        "#                             END OF YOUR CODE                               #\n",
        "##############################################################################   "
      ],
      "execution_count": 5,
      "outputs": [
        {
          "output_type": "stream",
          "text": [
            "x = 2\n",
            "  y = 0\n",
            "  y = 2\n",
            "x = 3\n",
            "  y = 0\n",
            "  y = 3\n",
            "  y = 6\n",
            "x = 4\n",
            "  y = 0\n",
            "  y = 4\n",
            "  y = 8\n",
            "  y = 12\n",
            "x = 5\n",
            "  y = 0\n",
            "  y = 5\n",
            "  y = 10\n",
            "  y = 15\n",
            "  y = 20\n",
            "x = 6\n",
            "  y = 0\n",
            "  y = 6\n",
            "  y = 12\n",
            "  y = 18\n",
            "  y = 24\n",
            "  y = 30\n"
          ],
          "name": "stdout"
        }
      ]
    },
    {
      "cell_type": "markdown",
      "metadata": {
        "id": "W-O_9bFggU9V"
      },
      "source": [
        "### Problem 4: Print median given a sorted list of unknown length\n",
        "The median is the value separating the higher half from the lower half of a data sample.  \n",
        "For example, in {1, 3, 3, 6, 7, 8, 9}, the median is 6  \n",
        "If there is an even number of observations, then there is no single middle value; the median is then usually defined to be the mean of the two middle values.  \n",
        "For example, in {0, 1, 3, 3, 6, 7, 8, 9}, the median is (3+6)/2 = 4.5\n",
        "\n",
        "(Coding Section: loops, if)  \n",
        "**Given list variable:** `sorted_list`  \n",
        "**Expected output:** `60`  \n",
        "(Your code will be tested by different lists)"
      ]
    },
    {
      "cell_type": "code",
      "metadata": {
        "id": "mTFp6JbfgU9X",
        "colab": {
          "base_uri": "https://localhost:8080/"
        },
        "outputId": "cf3c811a-e2d6-48b9-8d79-c70ab9a88b8c"
      },
      "source": [
        "import random\n",
        "random.seed(1)\n",
        "sorted_list = []\n",
        "for i in range(random.randint(15,60)):\n",
        "    sorted_list.append(random.randint(0,100))\n",
        "sorted_list = sorted(sorted_list)\n",
        "##############################################################################\n",
        "# TODO: Your code below\n",
        "##############################################################################\n",
        "\n",
        "#Fist check if the length of the list is odd (odd number of observations)\n",
        "if len(sorted_list) % 2 != 0:\n",
        "  #We then take the length of the list and divide it by 2 to get the index of the middle element of the list.\n",
        "  middle = sorted_list[len(sorted_list)//2]\n",
        "  #The middle element is thus the mean of a list with an odd number of observations.\n",
        "  print (middle)\n",
        "\n",
        "#If the length of the list is even (even number of observations)\n",
        "else: \n",
        "  #We want to find the two middle values. So, lower is the variable name of the lower of the two middle values in the list.\n",
        "  lower = sorted_list[len(sorted_list)//2 - 1]\n",
        "  #Upper is the variable nae of the higher of the two middle walues in the list.\n",
        "  upper = sorted_list[len(sorted_list)//2]\n",
        "  #By definition, for an even list of values, we would take the sum of the two middle values (in this case the sum of upper and lower), and \n",
        "  #divide by two to get the mean.\n",
        "  mean = (lower + upper)/2\n",
        "  print (mean) \n",
        "\n",
        "##############################################################################\n",
        "#                             END OF YOUR CODE                               #\n",
        "############################################################################## "
      ],
      "execution_count": null,
      "outputs": [
        {
          "output_type": "stream",
          "text": [
            "60\n"
          ],
          "name": "stdout"
        }
      ]
    },
    {
      "cell_type": "markdown",
      "metadata": {
        "id": "nY--FK7HgU9X"
      },
      "source": [
        "### Problem 5: Where is he from?\n",
        "**Plot:** A special agent intercepts a secret message and asks you to analyze where it is from! All he knows is that it was from a German speaking country, so he guesses it must be from one of the major speaking countries:`Germany, Belgium, Austria, Switzerland`. He has done his part of deciphering the code and saved it into string variables `country` and `city`. Your job is to figure out from which country and city the message is from, and inform the agent using a secret password!  \n",
        "**Task:** Use Nested-ifs to identify which country and city the message is from.\n",
        "\n",
        "+ If the message is from Germany:  \n",
        "&emsp;If it is from Berlin, print  *The wall is down*   \n",
        "&emsp;If it is from Hamberg, print  *Fries, mate*  \n",
        "&emsp;Else, print  *Negative! Negative!*\n",
        "\n",
        "\n",
        "+ If the message is from Belgium:  \n",
        "&emsp;If it is from Antwerp, print  *Really? Chocolate?*  \n",
        "&emsp;If it is from Charleroi, print  *Waffles and beer*  \n",
        "\n",
        "\n",
        "+ If the message is from Austria: print  *This is Straussing work*\n",
        "\n",
        "\n",
        "+ If the message is from Switzerland:  \n",
        "&emsp;If it is from Zurich,  print *Traiters from Z!*  \n",
        "&emsp;Else, print  *A-Cross the flag*  \n",
        "\n",
        "\n",
        "+ If the message is not from the countries listed:  \n",
        "&emsp;print  *More spying required*\n",
        "\n",
        "(Coding Section: Nested if-statement)  "
      ]
    },
    {
      "cell_type": "code",
      "metadata": {
        "id": "DljfGh_4gU9Y",
        "colab": {
          "base_uri": "https://localhost:8080/"
        },
        "outputId": "55457b94-d6f4-40f6-ca68-1b9c81178382"
      },
      "source": [
        "# You don't need to understand this section, it was deciphered by secret services!\n",
        "country_secret = [65, 117, 115, 116, 114, 105, 97]\n",
        "city_secret = [86, 105, 101, 110, 110, 97]\n",
        "country = ''.join([chr(i) for i in country_secret])\n",
        "city = ''.join([chr(i) for i in city_secret])\n",
        "##############################################################################\n",
        "# TODO: Your code below\n",
        "##############################################################################\n",
        "# you should use the variables country and city\n",
        "\n",
        "#This checks if the message is from Germany\n",
        "if country == 'Germany':\n",
        "  if city == 'Berlin':\n",
        "    #If the message is from Berlin, Germany then this is the secret password to use.\n",
        "    print (\"The wall is down\")\n",
        "  elif city == 'Hamberg':\n",
        "    #If the messsage is from Hamber, Germany then this is the secret password to use.\n",
        "    print (\"Fries, mate\")\n",
        "  #If the message is from a different city in Germany, then this is the secret password to use.\n",
        "  else:\n",
        "    print (\"Negative! Negative!\")\n",
        "\n",
        "#This checks if the message is from Belgium\n",
        "elif country == 'Belgium':\n",
        "  if city == 'Antwerp':\n",
        "    #If the message is from Antwerp, Belgium, then this is the secret password to use.\n",
        "    print (\"Really? Chocolate?\")\n",
        "  elif city == 'Charleroi':\n",
        "    #If the message is from Charleroi, Belgium, then this is the secret password to use.\n",
        "    print (\"Waffles and beer\")\n",
        "\n",
        "#This checks if the message is from Austria\n",
        "elif country == 'Austria':\n",
        "  #If the message is from Austria (no matter the city), then this is the secret password to use.\n",
        "  print (\"This is Straussing work\")\n",
        "\n",
        "#This checks if the message is from Switzerland\n",
        "elif country == 'Switzerland':\n",
        "  if city == 'Zurich':\n",
        "    #If the message is from Zurich, Switzerland, then this is the secret password to use.\n",
        "    print (\"Traiters from Z!\")\n",
        "  else:\n",
        "    #If the message is from a different city in Switzerland, then this is the secret password to use.\n",
        "    print (\"A-Cross the flag\")\n",
        "\n",
        "#If the message is not from Gernmany, Belgium, Austria, or Switzerland, then this is the secret password to use.\n",
        "else:\n",
        "  print (\"More spying required\")\n",
        "\n",
        "##############################################################################\n",
        "#                             END OF YOUR CODE                               #\n",
        "##############################################################################   "
      ],
      "execution_count": null,
      "outputs": [
        {
          "output_type": "stream",
          "text": [
            "This is Straussing work\n"
          ],
          "name": "stdout"
        }
      ]
    },
    {
      "cell_type": "markdown",
      "metadata": {
        "id": "mpIkwFPCgU9b"
      },
      "source": [
        "### Bonus Question: Sorting a List\n",
        "Given an unsorted list of unknown length, sort the list in ascending order. You may not use sort functions, nor create additional lists. You can only use variables.  \n",
        "**Given list variable:** `unsorted_list`  \n",
        "(Your code will be tested by different lists)\n",
        "\n",
        "(Coding Section: Nested loop and if-statement) \n",
        "\n",
        "*If you choose to answer this question, the additional score will not reflect on your CCLE score, but will be taken into final grade consideration as a bonus*"
      ]
    },
    {
      "cell_type": "code",
      "metadata": {
        "id": "2j-2VwGTgU9c",
        "colab": {
          "base_uri": "https://localhost:8080/"
        },
        "outputId": "a522e1c3-9a84-490e-b5a9-6e60f518c683"
      },
      "source": [
        "import random\n",
        "random.seed(2)\n",
        "unsorted_list = []\n",
        "for i in range(random.randint(20,30)):\n",
        "    unsorted_list.append(random.randint(-100,100))\n",
        "##############################################################################\n",
        "# TODO: Your code below\n",
        "##############################################################################\n",
        "\n",
        "#For this loop, I am testing each value in the list, but I don't know the length of the list. To do this for a list of any length,\n",
        "#I set the range to be the length of the unsorted list we are testing.\n",
        "for i in range(len(unsorted_list)):\n",
        "    #For this nested loop. I want to compare each value with the ones that come after it. To do this for a list of any length,\n",
        "    #I set the range to be from the value that comes after to the end of the unsorted list.\n",
        "    for j in range(i + 1, len(unsorted_list)):\n",
        "        #If the value we are testing is greater than the values that come after it in the unsorted list, then we would place it to the\n",
        "        #right of the other values since we are sorting this list in ascending order.\n",
        "        if unsorted_list[i] > unsorted_list[j]:\n",
        "           unsorted_list[i], unsorted_list[j] = unsorted_list[j], unsorted_list[i]\n",
        "\n",
        "##############################################################################\n",
        "#                             END OF YOUR CODE                               #\n",
        "############################################################################## \n",
        "print(unsorted_list)"
      ],
      "execution_count": null,
      "outputs": [
        {
          "output_type": "stream",
          "text": [
            "[-91, -79, -77, -60, -57, -46, -36, -22, -8, 0, 10, 30, 48, 55, 55, 63, 71, 74, 85, 88]\n"
          ],
          "name": "stdout"
        }
      ]
    },
    {
      "cell_type": "markdown",
      "metadata": {
        "id": "5yHDSV-ygU9c"
      },
      "source": [
        "### Submission Instructions:\n",
        "This .ipynb file with problems completed to be submitted on CCLE before the due date. File name should be your UID. For example: `123456789.ipynb`.\n",
        "\n",
        "To download the `.ipynb` file from Colab, go to **File->Download .ipynb**\n",
        "\n",
        "Please double check uploaded format by downloading your uploaded file. Any other file format will not be accepted."
      ]
    }
  ]
}