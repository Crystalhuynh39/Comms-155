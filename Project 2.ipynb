{
  "nbformat": 4,
  "nbformat_minor": 0,
  "metadata": {
    "anaconda-cloud": {},
    "kernelspec": {
      "display_name": "Python 3",
      "language": "python",
      "name": "python3"
    },
    "language_info": {
      "codemirror_mode": {
        "name": "ipython",
        "version": 3
      },
      "file_extension": ".py",
      "mimetype": "text/x-python",
      "name": "python",
      "nbconvert_exporter": "python",
      "pygments_lexer": "ipython3",
      "version": "3.6.4"
    },
    "colab": {
      "name": "Copy of COMM 155-W21-Project 2.ipynb",
      "provenance": [],
      "collapsed_sections": []
    }
  },
  "cells": [
    {
      "cell_type": "markdown",
      "metadata": {
        "id": "atEDOH0x6xJI"
      },
      "source": [
        "# Project 2\n",
        "### In this notebook, we will import reviews from csv files and analyze correlation between sentiment and ratings\n",
        "COMM 155 - Artificial Intelligence and New Media, Winter 2021, Prof. J. Joo, TA - Aakash Srinivasan\n",
        "\n",
        "**Due date: Monday, March 1, 2021 11:59 pm** via CCLE. Late submission will not be accepted.\n",
        "\n",
        "Data: [drive link](https://drive.google.com/drive/folders/12-qr7btdrbceh4Km_4-xBBjmeoB8m1hF?usp=sharing)\n",
        "\n",
        "**Download three csv files - *amazon.csv*, *beer.csv*, *movie.csv* from the link above. Create a new folder named `COMM155_Project_2_Data` in your `My Drive` and upload the three csv files to this folder. You are required to programatically access the files from here for this project.**\n",
        "\n",
        "You only need to code between the commented sections. Any code outside of it is for formatting purposes and should not be modified.\n",
        "\n",
        "1. Your code will be graded on correctness, not on efficiency.\n",
        "2. Feel free to use the search engine or other resources for debugging or learning correct syntax etc. But do not completely copy-paste code from outside.\n",
        "3. You must comment your code wherever necessary.\n",
        "4. **In this project notebook, there are a few questions asked based on the results and plots obtained and you are required to type out answers in the assigned text blocks. You won't be required to submit a separate report. All the answers should be self-contained in this notebook.**\n",
        "5. You may find [Python Tutorial Notebook 2](https://colab.research.google.com/drive/1h9p_u-REFjajH2Tb_G4n8Y4a_EAOzd_j?usp=sharing) and the corresponding [slides](https://drive.google.com/file/d/18jZqX0Lqa6tIwXXOPVDN7rp_goC2Zg5N/view?usp=sharing) useful for this project\n",
        "6. Feel free to ignore the hints if you believe it is not useful and you have found alternate ways to solve the problem.\n",
        "\n",
        "**Important:** You cannot modify this notebook directly as you only have *view access*. Before starting this project, create an **own** copy of this netebook by clicking on **File -> Save a copy in Drive**. You can add code in this copy."
      ]
    },
    {
      "cell_type": "markdown",
      "metadata": {
        "id": "GtcvT5TdIhCT"
      },
      "source": [
        "### Add your Google Drive\n",
        "\n",
        "Click on the link to enable authorization. Copy the code, paste in the prompted box and enter."
      ]
    },
    {
      "cell_type": "code",
      "metadata": {
        "id": "J6gFoERjIj_X",
        "colab": {
          "base_uri": "https://localhost:8080/"
        },
        "outputId": "76872b6c-b80e-493a-f2c4-729ae6b333e7"
      },
      "source": [
        "# To add your own Drive Run this cell.\n",
        "from google.colab import drive\n",
        "drive.mount('/content/drive')"
      ],
      "execution_count": 44,
      "outputs": [
        {
          "output_type": "stream",
          "text": [
            "Drive already mounted at /content/drive; to attempt to forcibly remount, call drive.mount(\"/content/drive\", force_remount=True).\n"
          ],
          "name": "stdout"
        }
      ]
    },
    {
      "cell_type": "markdown",
      "metadata": {
        "id": "DpBvypvL6xJL"
      },
      "source": [
        "### Import packages\n",
        "You will need to use numpy, nltk, csv, and SentimentIntensityAnalyzer (from nltk.sentiment.vader).\n",
        "\n",
        "**Hint:** You will be required to use `nltk.download(...)` to download data and model modules for 'punkt' and 'vader_lexicon', when you run for first time in a colab session. Check out [Python Tutorial Notebook 2](https://colab.research.google.com/drive/1h9p_u-REFjajH2Tb_G4n8Y4a_EAOzd_j?usp=sharing) for more hints."
      ]
    },
    {
      "cell_type": "code",
      "metadata": {
        "id": "TZnwSsG56xJM",
        "colab": {
          "base_uri": "https://localhost:8080/"
        },
        "outputId": "8a01f3cb-b027-4a8c-e026-ce50c7ee4971"
      },
      "source": [
        "##############################################################################\n",
        "# TODO: Your coding below                                                    #\n",
        "##############################################################################\n",
        "\n",
        "#code for importing the packages needed for the project\n",
        "import numpy as np\n",
        "import csv\n",
        "import nltk\n",
        "from nltk.sentiment.vader import SentimentIntensityAnalyzer\n",
        "#download data and model modules for 'punkt' and 'vader_lexicon'\n",
        "nltk.download('punkt')\n",
        "nltk.download('vader_lexicon')\n",
        "\n",
        "##############################################################################\n",
        "#                             END OF YOUR CODE                               #\n",
        "##############################################################################"
      ],
      "execution_count": 45,
      "outputs": [
        {
          "output_type": "stream",
          "text": [
            "[nltk_data] Downloading package punkt to /root/nltk_data...\n",
            "[nltk_data]   Package punkt is already up-to-date!\n",
            "[nltk_data] Downloading package vader_lexicon to /root/nltk_data...\n",
            "[nltk_data]   Package vader_lexicon is already up-to-date!\n"
          ],
          "name": "stdout"
        },
        {
          "output_type": "execute_result",
          "data": {
            "text/plain": [
              "True"
            ]
          },
          "metadata": {
            "tags": []
          },
          "execution_count": 45
        }
      ]
    },
    {
      "cell_type": "markdown",
      "metadata": {
        "id": "PPg4CsyM6xJP"
      },
      "source": [
        "#### The following function can be used to draw a box plot. You can use this function as it is for plotting.\n",
        "\n",
        "**Input:**  \n",
        " rating_list: a list of numeric ratings  \n",
        " sentiment_list: a list of sentimeny analysis results obtained by NLTK (only the \"compound\" part)\n",
        "\n",
        " **Note: You are not required to make any changes to this function.**"
      ]
    },
    {
      "cell_type": "code",
      "metadata": {
        "id": "EXqhkFlN6xJj"
      },
      "source": [
        "def draw_box_plot(rating_list, sentiment_list):\n",
        "    \"\"\"\n",
        "    Helper function for box plots.\n",
        "\n",
        "    args:\n",
        "        ratings_list: A python list containing input ratings\n",
        "        sentiment_list: A python list containing predicted sentiments\n",
        "        corresponding to the ratings.\n",
        "    \"\"\"\n",
        "    # Import matplotlib library for plotting bex diagrams\n",
        "    import matplotlib.pyplot as plt\n",
        "    rset = sorted(set(rating_list))\n",
        "    # sentall is a list-of-list holding sentiments corresponding to each\n",
        "    # distinct rating\n",
        "    sentall = []\n",
        "    for r in rset:\n",
        "        sentlist = []\n",
        "        for i, rval in enumerate(rating_list):\n",
        "            if (rval == r):\n",
        "                sentlist.append(sentiment_list[i])\n",
        "        sentall.append(sentlist)\n",
        "    # Cast to numpy array with dtype object to overcome\n",
        "    # VisibleDeprecationWarning in matplotlib and numpy\n",
        "    sentall =  numpy.array(sentall, dtype=object)\n",
        "    plt.figure()\n",
        "    plt.boxplot(sentall, labels=rset)\n",
        "    plt.xlabel('Ratings')\n",
        "    plt.ylabel('Sentiment')"
      ],
      "execution_count": null,
      "outputs": []
    },
    {
      "cell_type": "markdown",
      "metadata": {
        "id": "djg_za_T6xJl"
      },
      "source": [
        "### Read amazon.csv file\n",
        "You will need to use the `csv.reader` function\n",
        "\n",
        "**Hint 1:** You may need to know the path of the `COMM155_Project_2_Data` folder in your `My drive` to access it from the notebook. The path to the data directory is: `/content/drive/My Drive/COMM155_Project_2_Data/`.\n",
        "\n",
        "**Hint 2:** The following would be the paths to the three datasets:\n",
        "\n",
        "\n",
        "*   `amazon reviews data:` `/content/drive/My Drive/COMM155_Project_2_Data/amazon.csv`\n",
        "*   `beer reviews data:` `/content/drive/My Drive/COMM155_Project_2_Data/beer.csv`\n",
        "*   `movie reviews data:` `/content/drive/My Drive/COMM155_Project_2_Data/movie.csv`\n",
        "\n",
        "Use these paths to open the csv data files programatically. \n",
        "\n"
      ]
    },
    {
      "cell_type": "code",
      "metadata": {
        "id": "MSbUI7jk6xJr"
      },
      "source": [
        "##############################################################################\n",
        "# TODO: Your coding below                                                    #\n",
        "##############################################################################\n",
        "\n",
        "# open csv file, and assign it to a handler\n",
        "data_directory = \"/content/drive/My Drive/COMM155_Project_2_Data/amazon.csv\"\n",
        "csvfile = open(data_directory, 'r')\n",
        "\n",
        "# create csv reader, and assign to an intermediate object\n",
        "csv_rd_obj = csv.reader(csvfile)\n",
        "\n",
        "# cast the intermediate object to a list\n",
        "data = list(csv_rd_obj)\n",
        "\n",
        "# close the csv file\n",
        "csvfile.close()\n",
        "\n",
        "##############################################################################\n",
        "#                             END OF YOUR CODE                               #\n",
        "##############################################################################"
      ],
      "execution_count": null,
      "outputs": []
    },
    {
      "cell_type": "markdown",
      "metadata": {
        "id": "CVxBJu5n6xJv"
      },
      "source": [
        "### Extract comment and ratings, then calculate compound scores.\n",
        "You will need to use the `polarity_scores`function under the `SentimentIntensityAnalyzer` to calculate the compound score.\n",
        "\n",
        "The first ten reviews' ratings should be `5, 4, 2, 5, 5, 3, 1, 5, 4, 5`  \n",
        "The first ten reviews' sentiment should be `0.9774, -0.5267, 0.6486, 0.443, 0.7902, 0.6956, 0.4491, 0.945, 0.8074, 0.9105`"
      ]
    },
    {
      "cell_type": "code",
      "metadata": {
        "id": "p6Mj9zSq6xJw",
        "colab": {
          "base_uri": "https://localhost:8080/"
        },
        "outputId": "e63ec89f-d74b-4d5b-f025-459b3367a2dd"
      },
      "source": [
        "##############################################################################\n",
        "# TODO: Your coding below                                                    #\n",
        "##############################################################################\n",
        "\n",
        "# extract comments and ratings\n",
        "k = 0\n",
        "ratings_list = []\n",
        "compound_scores_list = []\n",
        "#create sentiment classifier\n",
        "sid = SentimentIntensityAnalyzer() \n",
        "\n",
        "for row in data:\n",
        "    comments = row[0]\n",
        "    ratings = row [1]\n",
        "    compound_scores = sid.polarity_scores(comments)['compound']\n",
        "# feed comments into classifier and save sentiment\n",
        "    if k == 0:\n",
        "      k += 1\n",
        "    else:\n",
        "      ratings_list.append(int(ratings))\n",
        "      compound_scores_list.append(compound_scores)\n",
        "      k += 1\n",
        "\n",
        "\n",
        "print(ratings_list[:10])\n",
        "print(compound_scores_list[:10])\n",
        "\n",
        "##############################################################################\n",
        "#                             END OF YOUR CODE                               #\n",
        "##############################################################################"
      ],
      "execution_count": null,
      "outputs": [
        {
          "output_type": "stream",
          "text": [
            "[5, 4, 2, 5, 5, 3, 1, 5, 4, 5]\n",
            "[0.9774, -0.5267, 0.6486, 0.443, 0.7902, 0.6956, 0.4491, 0.945, 0.8074, 0.9105]\n"
          ],
          "name": "stdout"
        }
      ]
    },
    {
      "cell_type": "markdown",
      "metadata": {
        "id": "ViV5Lxrb6xJw"
      },
      "source": [
        "### Print the correlation between ratings and classified sentiments using numpy.corrcoef"
      ]
    },
    {
      "cell_type": "code",
      "metadata": {
        "id": "WxMEs0Cg6xJz",
        "colab": {
          "base_uri": "https://localhost:8080/"
        },
        "outputId": "48264bd1-908d-4238-80a1-c5821231432c"
      },
      "source": [
        "##############################################################################\n",
        "# TODO: Your coding below                                                    #\n",
        "##############################################################################\n",
        "\n",
        "#prints the correlation factor between ratings and classified sentiments\n",
        "import numpy\n",
        "print(numpy.corrcoef(ratings_list, compound_scores_list))\n",
        "\n",
        "##############################################################################\n",
        "#                             END OF YOUR CODE                               #\n",
        "##############################################################################"
      ],
      "execution_count": null,
      "outputs": [
        {
          "output_type": "stream",
          "text": [
            "[[1.         0.41715484]\n",
            " [0.41715484 1.        ]]\n"
          ],
          "name": "stdout"
        }
      ]
    },
    {
      "cell_type": "markdown",
      "metadata": {
        "id": "DaZraRdt6xJ2"
      },
      "source": [
        "### Questions:\n",
        "**What is the correlation factor?**"
      ]
    },
    {
      "cell_type": "markdown",
      "metadata": {
        "id": "XgNh0vmB6xJ4"
      },
      "source": [
        "**Answer:** *0.41715484*"
      ]
    },
    {
      "cell_type": "markdown",
      "metadata": {
        "id": "IzKfcaLj6xJ4"
      },
      "source": [
        "### Draw a box plot using draw_box_plot()"
      ]
    },
    {
      "cell_type": "code",
      "metadata": {
        "id": "pkf7PGlZ6xJ4",
        "colab": {
          "base_uri": "https://localhost:8080/",
          "height": 279
        },
        "outputId": "0388e662-6e76-43a0-a886-022d3addaec7"
      },
      "source": [
        "##############################################################################\n",
        "# TODO: Your coding below                                                    #\n",
        "##############################################################################\n",
        "\n",
        "#draws a boxplot of the data\n",
        "draw_box_plot(ratings_list, compound_scores_list)\n",
        "\n",
        "##############################################################################\n",
        "#                             END OF YOUR CODE                               #\n",
        "##############################################################################"
      ],
      "execution_count": null,
      "outputs": [
        {
          "output_type": "display_data",
          "data": {
            "image/png": "[encoded data removed]",
            "text/plain": [
              "<Figure size 432x288 with 1 Axes>"
            ]
          },
          "metadata": {
            "tags": [],
            "needs_background": "light"
          }
        }
      ]
    },
    {
      "cell_type": "markdown",
      "metadata": {
        "id": "bVg48TSg6xJ5"
      },
      "source": [
        "### Questions:\n",
        "**From the box plot, what can you tell about the review sentiments and ratings? (What kind of properties can you identify)**"
      ]
    },
    {
      "cell_type": "markdown",
      "metadata": {
        "id": "jrYX_PYe6xJ5"
      },
      "source": [
        "**Answer:**  \n",
        "We can see that there are outliers for people who gave a rating of 3 or higher. These outliers are mostly towards the lower end of the sentiment range and the amount of them increases as the ratings get higher. This tells us that there were a of people who gave higher ratings, but the sentiments in their comments were lower than average. We can also see that the median sentiment for each rating increases as the ratings get higher. This is fitting since in theory people should have a more positive sentiment in their comments if they give a higher rating. We can also see that within the IQR, the median value is more towards the top of the IQR as the ratings get higher which also supports this theory. Another interesting thing to note is that the IQR gets smaller as the ratings get higher. This tells us that there is less variance in sentiment as the ratings increase. Comparing the IQR for ratings of 5 compared to that of ratings of 1, we can see that for ratings of 5, the IQR covers mostly positive sentiments whereas for ratings of 1, the IQR covers a wider range that also encompasses negative sentiments. In theory, this makes sense as people who give higher ratings, most will have more positive sentiments. Any negative sentiments will be very few which would make them outliers. These outliers can be explained with a multitude of reasons. We can also see a trend that the minimum sentiment values get farther and farther away from the Q1 values as the ratings get higher which also supports the theory that the sentiments are genrally more positive as the ratings get higher. Another thing to note is that the maximum values were the same for each rating, but the minimum value got higher as the ratings increased which also supports the theories stated."
      ]
    },
    {
      "cell_type": "markdown",
      "metadata": {
        "collapsed": true,
        "id": "__qO3o9v6xJ5"
      },
      "source": [
        "### Repeat the same analysis for beer.csv and movie.csv separately.  \n",
        "*For `beer.csv`, use `open(\"beer.csv\", encoding=\"utf-8\")` instead*  \n",
        "*For movie, cast the review to the right type*"
      ]
    },
    {
      "cell_type": "code",
      "metadata": {
        "id": "YhCuQmJo6xJ6",
        "colab": {
          "base_uri": "https://localhost:8080/",
          "height": 347
        },
        "outputId": "8b783f96-2769-4df7-ab1b-dd09d6062dd1"
      },
      "source": [
        "# For beer\n",
        "\n",
        "##############################################################################\n",
        "# TODO: Your coding below                                                    #\n",
        "##############################################################################\n",
        "\n",
        "# open csv file, and assign it to a handler\n",
        "import csv\n",
        "#For beer.csv, use open(\"beer.csv\", encoding=\"utf-8\") instead\n",
        "with open(\"/content/drive/My Drive/COMM155_Project_2_Data/beer.csv\", encoding=\"utf-8\") as csvfile:\n",
        "\n",
        "# create csv reader, and assign to an intermediate object\n",
        "  csv_rd_obj = csv.reader(csvfile)\n",
        "\n",
        "# cast the intermediate object to a list\n",
        "  data = list(csv_rd_obj)\n",
        "\n",
        "# close the csv file\n",
        "  csvfile.close()\n",
        "\n",
        "# extract comments and ratings\n",
        "k = 0\n",
        "ratings_list = []\n",
        "compound_scores_list = []\n",
        "#create sentiment classifier\n",
        "sid = SentimentIntensityAnalyzer() \n",
        "\n",
        "for row in data:\n",
        "    comments = row[0]\n",
        "    ratings = row [1]\n",
        "    compound_scores = sid.polarity_scores(comments)['compound']\n",
        "# feed comments into classifier and save sentiment\n",
        "    if k == 0:\n",
        "      k += 1\n",
        "    else:\n",
        "      ratings_list.append(int(ratings))\n",
        "      compound_scores_list.append(compound_scores)\n",
        "      k += 1\n",
        "\n",
        "print(ratings_list[:10])\n",
        "print(compound_scores_list[:10])\n",
        "\n",
        "#Print the correlation between ratings and classified sentiments\n",
        "import numpy\n",
        "print(numpy.corrcoef(ratings_list, compound_scores_list))\n",
        "\n",
        "#Draw a box plot\n",
        "draw_box_plot(ratings_list, compound_scores_list)\n",
        "\n",
        "##############################################################################\n",
        "#                             END OF YOUR CODE                               #\n",
        "##############################################################################"
      ],
      "execution_count": null,
      "outputs": [
        {
          "output_type": "stream",
          "text": [
            "[14, 13, 14, 14, 11, 13, 13, 13, 12, 9]\n",
            "[0.6901, 0.4019, 0.6808, 0.802, 0.65, 0.7906, 0.4019, 0.6808, 0.7248, 0.6739]\n",
            "[[1.         0.51653668]\n",
            " [0.51653668 1.        ]]\n"
          ],
          "name": "stdout"
        },
        {
          "output_type": "display_data",
          "data": {
            "image/png": "[encoded data removed]",
            "text/plain": [
              "<Figure size 432x288 with 1 Axes>"
            ]
          },
          "metadata": {
            "tags": [],
            "needs_background": "light"
          }
        }
      ]
    },
    {
      "cell_type": "markdown",
      "metadata": {
        "id": "CPiG7zcPcPG0"
      },
      "source": [
        "### Questions:\n",
        "**What is the correlation factor for the beer review dataset?**"
      ]
    },
    {
      "cell_type": "markdown",
      "metadata": {
        "id": "hNk8uMKYcNTt"
      },
      "source": [
        "**Answer:**  \n",
        "0.51653668"
      ]
    },
    {
      "cell_type": "markdown",
      "metadata": {
        "id": "gz_fWbr36xJ7"
      },
      "source": [
        "### Questions:\n",
        "**Compared to the previous box plot, what can you tell about the beer review sentiments and ratings? (Point out major differences)**"
      ]
    },
    {
      "cell_type": "markdown",
      "metadata": {
        "id": "9T2rdwVO6xJ7"
      },
      "source": [
        "**Answer:**  \n",
        "For this boxplot, there is a lot more variance thant the previous one on many factors. Starting with outliers, we can see for this boxplot there are outliers that record negative sentiments for the higher ratings like the previous boxplot, but for the beer data, we can also see that there are positive outliers for ratings of 1 and 3. However, there are fewer positive outliers than there are negative outliers. We can also see that most of the outliers are towards the higher ratings for amazon, but for beer, it looks more even with perhaps more outliers at rating 14 compared to rating 16 and 17. For the most part, the median sentiment for each rating increases like the previous boxplot, with a few stray medians like the ones at rating 2 and 19. This again tells us that as the ratings get higher, so does the sentiment of the comments. Unlike the boxplot for amazon which grew smaller as the ratings increased, for beer, the IQRs seem to vary from ratings 1 to 7, remain about the same (in terms of the size of the box, not the actual values) from ratings 7 to 11, and then become smaller from ratings 11 on up. Since the ratings are on a wider scale, this can explain why there is a lot of variance in sentiment for many of the ratings. Another major difference between the beer and amazon boxplots are the minimum and maximum values. For some of the ratings, mostly the lower ratings, the minimum value is closer to the IQR. As the ratings increase, we can see that the minimum and maximum values are more equally distanced, and then towards the higher ratings, the maximum value is closer to the IQR. Within the IQR, we can also see a similar trend with the median values where the median is closer to the bottom of the IQR or closer to the Q1 value at the lower ratings, moves closer to the middle, and then gets closer to the Q3 value at the higher ratings. For the minimum and maximum values themselves, unlike the amazon boxplot the maximum values are all different for the beer data. For the lower ratings we can see the maximum values are a lot lower and have more variance, and then they become about the same value from ratings of 7 on up. The minimum values are also different in that they increase in value in the higher ratings, but for most of the ratings, the minimum values are relatively similar. "
      ]
    },
    {
      "cell_type": "code",
      "metadata": {
        "id": "A2Q8A0086xJ8",
        "colab": {
          "base_uri": "https://localhost:8080/",
          "height": 347
        },
        "outputId": "4ea22c26-76f8-495a-aa70-90caf0469053"
      },
      "source": [
        "# For movie\n",
        "\n",
        "##############################################################################\n",
        "# TODO: Your coding below                                                    #\n",
        "##############################################################################\n",
        "\n",
        "# open csv file, and assign it to a handler\n",
        "import csv\n",
        "with open(\"/content/drive/My Drive/COMM155_Project_2_Data/movie.csv\", encoding=\"utf-8\") as csvfile:\n",
        "\n",
        "# create csv reader, and assign to an intermediate object\n",
        "  csv_rd_obj = csv.reader(csvfile)\n",
        "\n",
        "# cast the intermediate object to a list\n",
        "  data = list(csv_rd_obj)\n",
        "\n",
        "# close the csv file\n",
        "  csvfile.close()\n",
        "\n",
        "# extract comments and ratings\n",
        "k = 0\n",
        "ratings_list = []\n",
        "compound_scores_list = []\n",
        "#create sentiment classifier\n",
        "sid = SentimentIntensityAnalyzer() \n",
        "\n",
        "for row in data:\n",
        "    comments = row[0]\n",
        "    ratings = row [1]\n",
        "    compound_scores = sid.polarity_scores(comments)['compound']\n",
        "# feed comments into classifier and save sentiment\n",
        "    if k == 0:\n",
        "      k += 1\n",
        "    else:\n",
        "      #we have to cast review to the right type, so we can't use int for the ratings like we did before\n",
        "      #since the movie data set deals with 1.0, 2.0, 3.0 etc. rather than 1, 2, 3 etc. for the ratings\n",
        "      ratings_list.append(ratings)\n",
        "      compound_scores_list.append(compound_scores)\n",
        "      k += 1\n",
        "\n",
        "print(ratings_list[:10])\n",
        "print(compound_scores_list[:10])\n",
        "\n",
        "#Print the correlation between ratings and classified sentiments\n",
        "import numpy as np\n",
        "#this code helps solve the issue of dealing with 1.0, 2.0, 3.0 etc. for the ratings in this data set\n",
        "print(np.corrcoef(np.array(ratings_list).astype(np.float), np.array(compound_scores_list).astype(np.float)))\n",
        "\n",
        "#Draw a box plot\n",
        "draw_box_plot(ratings_list, compound_scores_list)\n",
        "\n",
        "##############################################################################\n",
        "#                             END OF YOUR CODE                               #\n",
        "##############################################################################"
      ],
      "execution_count": null,
      "outputs": [
        {
          "output_type": "stream",
          "text": [
            "['5.0', '5.0', '4.0', '5.0', '5.0', '5.0', '1.0', '4.0', '3.0', '5.0']\n",
            "[0.9933, 0.9442, 0.9905, 0.8763, 0.9729, 0.6705, -0.9653, 0.7579, 0.9891, 0.9528]\n",
            "[[1.         0.39781475]\n",
            " [0.39781475 1.        ]]\n"
          ],
          "name": "stdout"
        },
        {
          "output_type": "display_data",
          "data": {
            "image/png": "[encoded data removed]",
            "text/plain": [
              "<Figure size 432x288 with 1 Axes>"
            ]
          },
          "metadata": {
            "tags": [],
            "needs_background": "light"
          }
        }
      ]
    },
    {
      "cell_type": "markdown",
      "metadata": {
        "id": "u0HzIAM2cd61"
      },
      "source": [
        "### Questions:\n",
        "**What is the correlation factor for the movie review dataset?**"
      ]
    },
    {
      "cell_type": "markdown",
      "metadata": {
        "id": "K1I8QUZuccX8"
      },
      "source": [
        "**Answer:**  \n",
        "0.39781475"
      ]
    },
    {
      "cell_type": "markdown",
      "metadata": {
        "id": "w3xHvlcHRmEk"
      },
      "source": [
        "### Questions:\n",
        "**Point out major differences (if any) between the box plot for movie review dataset when compared with (a) amazon, (b) beer review dataset**"
      ]
    },
    {
      "cell_type": "markdown",
      "metadata": {
        "id": "ViZGInbwdhUQ"
      },
      "source": [
        "**Answer:**  \n",
        "For the movie boxplot, it is most similar to the amazon boxplot with all the trends and properties that can be seen. There are differences to point out when comparing the movie boxplot to both the amazon and the beer boxplots.\n",
        "\n",
        "When comparing the movie boxplot to the amazon boxplot, we can see that there are negative outliers towards the higher ratings for both. However, for movie the outliers are for ratings of 4 and 5 rather than for ratings of 3 as well. The outlier range for rating 5 for both amazon and movie are similar, but for rating 4 the outliers have a wider range for amazon. The median values increase as the rating increases for both, but the increase for movie is not as linear as it is for amazon. For amazon, the median value is usually in the middle of the IQR or towards the top, but we can see that for movie, that trend does not apply since for rating 1.0, the median value is towards the bottom of the IQR range. For both amazon and movie, the IQR range does decrease, but not at the same rate. In fact, the IQR between the ratings of 1.0 and 2.0 in movie seem about the same before they start decreasing. The minimum and maximum values are different as well. For amazon, we noted that the maximum value gets closer to the Q3 value as the ratings get higher but for movie, that is not the case since we can see that the minimum value is very close to the Q1 value at rating 1.0. Like the amazon boxplot, the maximum values are relatively similar. For ht eminimum values of movie, they are similar for ratings of 1 to 3 before increasing in value whereas for amazon, the minimum values start increasing after rating 2.\n",
        "\n",
        "\n",
        "When comparing the movie boxplot to the beer boxplot, there are outliers at more rating values in the beer boxplot than the movie boxplot. The movie boxplot also has all negative outliers and no positive outliers like the beer boxplot does. The movie boxplot also has more outliers at higher ratings while the beer boxplot seems to habe more outliers at rating 14 compared to 16 and 17. The median value increases for both, but it is more varied for beer than it is for movie. We can see that the median values for beer at rating 1 to 4 are varied, relatively the same form 4 to 8, and then increase. For movie, the median value increases without variance in that trend. Most of the median values in movie are closer to the top of the IQR except for the value at rating 1. For beer, we can see more variance where the median values are closer to the bottom of the IQR at the lower ratings, move towards the center of the IQR, and then get closer to the top of the IQR at the higher ratings. There is also a lot more variance in the width of the IQR for beer compared to movie. For movie, the IQR gets smaller as the ratings increase but for beer, the lower ratings also have smaller IQR so this trend does not apply. In terms of minimum and maximum values, for movie, the IQR is closer to the maximum value with the exception at rating 1. For beer, the IQR is closer to the minimum value at the lower ratings, becomes more even between the minimum and maximum values, and then gets closer to the maximum value as the rating increases. We can also see that the maximum values themselves stay relatively the same throughout the ratings for movie, but are more varied for beer until at rating 7 on up. The minimum values for movie increase as the ratings increase, but for beer they are relatively similar for ratings 3 to 12 and vary at the other ratings."
      ]
    },
    {
      "cell_type": "markdown",
      "metadata": {
        "id": "v0eAWdbIjfTC"
      },
      "source": [
        "# Bonus Question"
      ]
    },
    {
      "cell_type": "code",
      "metadata": {
        "id": "61t0SOqAjjFB",
        "colab": {
          "base_uri": "https://localhost:8080/",
          "height": 905
        },
        "outputId": "4122f6cf-ddfc-4694-9c18-5519349e7feb"
      },
      "source": [
        "# Complete the following function and check if it is working for all the three datasets.\n",
        "# Check project 2 pdf for more details\n",
        "# ** Comment the function heavily describing what you are exactly doing **\n",
        "\n",
        "def sentiment_analysis(x):\n",
        "    ##############################################################################\n",
        "    # TODO: Your coding below                                                    #\n",
        "    ##############################################################################\n",
        "\n",
        "  # open csv file, and assign it to a handler\n",
        "  import csv\n",
        "  with open(\"/content/drive/My Drive/COMM155_Project_2_Data/\" + x, encoding=\"utf-8\") as csvfile:\n",
        "\n",
        "  # create csv reader, and assign to an intermediate object\n",
        "    csv_rd_obj = csv.reader(csvfile)\n",
        "\n",
        "  # cast the intermediate object to a list\n",
        "    data = list(csv_rd_obj)\n",
        "\n",
        "  # close the csv file\n",
        "    csvfile.close()\n",
        "\n",
        "  # extract comments and ratings\n",
        "  k = 0\n",
        "  ratings_list = []\n",
        "  compound_scores_list = []\n",
        "  #create sentiment classifier\n",
        "  sid = SentimentIntensityAnalyzer() \n",
        "\n",
        "  for row in data:\n",
        "      comments = row[0]\n",
        "      ratings = row[1]\n",
        "      compound_scores = sid.polarity_scores(comments)['compound']\n",
        "  # feed comments into classifier and save sentiment\n",
        "      if k == 0:\n",
        "        k += 1\n",
        "      else:\n",
        "        #this part of the code helps solve the issue of 1, 2, 3 vs. 1.0, 2.0, 3.0 since the data sets have different number formats for the ratings\n",
        "        ratings_list.append(int(float(ratings))) \n",
        "        compound_scores_list.append(compound_scores)\n",
        "        k += 1\n",
        "\n",
        "  #Since we don't have to print these out like the other problems, I made them comments to keep them as a reference.\n",
        "  #print(ratings_list[:10])\n",
        "  #print(compound_scores_list[:10])\n",
        "\n",
        "  #Print the correlation between ratings and classified sentiments\n",
        "  import numpy as np\n",
        "  print(np.corrcoef(np.array(ratings_list).astype(np.float), np.array(compound_scores_list).astype(np.float)))\n",
        "\n",
        "  #Draw a box plot\n",
        "  draw_box_plot(ratings_list, compound_scores_list)\n",
        "\n",
        "#using the fuction for the three data sets\n",
        "sentiment_analysis(\"amazon.csv\")\n",
        "sentiment_analysis(\"beer.csv\")\n",
        "sentiment_analysis(\"movie.csv\")\n",
        "\n",
        "\n",
        "    ##############################################################################\n",
        "    #                             END OF YOUR CODE                               #\n",
        "    ##############################################################################"
      ],
      "execution_count": 47,
      "outputs": [
        {
          "output_type": "stream",
          "text": [
            "[[1.         0.41715484]\n",
            " [0.41715484 1.        ]]\n",
            "[[1.         0.51653668]\n",
            " [0.51653668 1.        ]]\n",
            "[[1.         0.39781475]\n",
            " [0.39781475 1.        ]]\n"
          ],
          "name": "stdout"
        },
        {
          "output_type": "display_data",
          "data": {
            "image/png": "[encoded data removed]",
            "text/plain": [
              "<Figure size 432x288 with 1 Axes>"
            ]
          },
          "metadata": {
            "tags": [],
            "needs_background": "light"
          }
        },
        {
          "output_type": "display_data",
          "data": {
            "image/png": "[encoded data removed]",
            "text/plain": [
              "<Figure size 432x288 with 1 Axes>"
            ]
          },
          "metadata": {
            "tags": [],
            "needs_background": "light"
          }
        },
        {
          "output_type": "display_data",
          "data": {
            "image/png": "[encoded data removed]",
            "text/plain": [
              "<Figure size 432x288 with 1 Axes>"
            ]
          },
          "metadata": {
            "tags": [],
            "needs_background": "light"
          }
        }
      ]
    },
    {
      "cell_type": "markdown",
      "metadata": {
        "id": "ozR30g_U6xJ8"
      },
      "source": [
        "### Submission Instructions:\n",
        "This .ipynb file with problems completed to be submitted on CCLE before the due date. File name should be your UID. For example: `123456789.ipynb`.\n",
        "\n",
        "To download the `.ipynb` file from Colab, go to **File->Download .ipynb**\n",
        "\n",
        "Please double check uploaded format by downloading your uploaded file. Any other file format will not be accepted."
      ]
    }
  ]
}